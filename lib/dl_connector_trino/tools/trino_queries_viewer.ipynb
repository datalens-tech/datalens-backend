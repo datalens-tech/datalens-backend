{
 "cells": [
  {
   "cell_type": "code",
   "execution_count": null,
   "id": "cde449e2-3eef-45fb-9fc7-de9533b575ca",
   "metadata": {},
   "outputs": [],
   "source": [
    "from trino.dbapi import connect, Cursor\n",
    "import pandas as pd"
   ]
  },
  {
   "cell_type": "code",
   "execution_count": null,
   "id": "df6ef962-0707-423e-a5a8-078f6e0a6b65",
   "metadata": {},
   "outputs": [],
   "source": [
    "def get_trino_queries_df(cursor: Cursor) -> pd.DataFrame:\n",
    "    cur.execute(\"SELECT * FROM system.runtime.queries\")\n",
    "    rows = cur.fetchall()\n",
    "    \n",
    "    columns = [\n",
    "        'query_id',\n",
    "        'state',\n",
    "        'user',\n",
    "        'source',\n",
    "        'query',\n",
    "        'resource_group_id',\n",
    "        'queued_time_ms',\n",
    "        'analysis_time_ms',\n",
    "        'planning_time_ms',\n",
    "        'created',\n",
    "        'started',\n",
    "        'last_heartbeat',\n",
    "        'end',\n",
    "        'error_type',\n",
    "        'error_code'\n",
    "    ]\n",
    "    df = pd.DataFrame(rows, columns=columns)\n",
    "    df.drop(columns=['resource_group_id'], inplace=True)       \n",
    "    for col in [\n",
    "        'created',\n",
    "        'started',\n",
    "        'last_heartbeat',\n",
    "        'end',\n",
    "    ]:\n",
    "        try:\n",
    "            df[col] = pd.to_datetime(df[col], errors='coerce')\n",
    "            df[col] = df[col].dt.tz_convert(None) if df[col].dt.tz is not None else df[col]\n",
    "        except AttributeError:\n",
    "            pass\n",
    "    \n",
    "    df.sort_values('created', inplace=True)\n",
    "    df.reset_index(drop=True, inplace=True)\n",
    "\n",
    "    return df"
   ]
  },
  {
   "cell_type": "code",
   "execution_count": null,
   "id": "bc556d39-f8b3-49ec-a75d-8c6774378c63",
   "metadata": {},
   "outputs": [],
   "source": [
    "HOST = '127.0.0.1'\n",
    "PORT = 21123\n",
    "USERNAME = 'analyzer'\n",
    "\n",
    "\n",
    "conn = connect(\n",
    "    host=HOST,\n",
    "    port=PORT,\n",
    "    user=USERNAME,\n",
    ")\n",
    "cur = conn.cursor()\n",
    "\n",
    "df = get_trino_queries_df(cur)\n",
    "# df.to_excel('trino_logs.xlsx', index=False)"
   ]
  },
  {
   "cell_type": "code",
   "execution_count": null,
   "id": "40b4b9f4-28ac-450e-8569-49783fb5f0f3",
   "metadata": {},
   "outputs": [],
   "source": [
    "df.tail()"
   ]
  }
 ],
 "metadata": {
  "kernelspec": {
   "display_name": "Python 3 (ipykernel)",
   "language": "python",
   "name": "python3"
  },
  "language_info": {
   "codemirror_mode": {
    "name": "ipython",
    "version": 3
   },
   "file_extension": ".py",
   "mimetype": "text/x-python",
   "name": "python",
   "nbconvert_exporter": "python",
   "pygments_lexer": "ipython3",
   "version": "3.12.6"
  }
 },
 "nbformat": 4,
 "nbformat_minor": 5
}
